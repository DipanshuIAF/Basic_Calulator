{
 "cells": [
  {
   "cell_type": "markdown",
   "id": "f3992a0d-b6c0-4397-a5a2-0e7f852f8d7a",
   "metadata": {},
   "source": [
    "## A Basic Calculator"
   ]
  },
  {
   "cell_type": "raw",
   "id": "078f4ed4-68f7-4b86-99b7-93a152ed3228",
   "metadata": {},
   "source": [
    " A user friendly calculator capable of performing basic arthematic operations such as addition, subtraction, multiplication, division, and reaminder"
   ]
  },
  {
   "cell_type": "code",
   "execution_count": 22,
   "id": "2ac76291-2855-42e6-92df-10c67d953060",
   "metadata": {},
   "outputs": [
    {
     "name": "stdin",
     "output_type": "stream",
     "text": [
      "Enter Your First Number:  8352\n",
      "Enter Operator (+,-,*,/,%):  /\n",
      "Enter Your Second Number:  27464\n"
     ]
    },
    {
     "name": "stdout",
     "output_type": "stream",
     "text": [
      "0.3041071948732887\n"
     ]
    }
   ],
   "source": [
    "First = input(\"Enter Your First Number: \")\n",
    "Operator = input(\"Enter Operator (+,-,*,/,%): \")\n",
    "Second = input(\"Enter Your Second Number: \")\n",
    "if Operator == \"+\":\n",
    "    print(int(First) + int(Second))\n",
    "elif Operator == \"-\":\n",
    "    print(int(First) - int(Second))\n",
    "elif Operator == \"*\":\n",
    "    print(int(First) * int(Second))\n",
    "elif Operator == \"/\":\n",
    "    print(int(First) / int(Second))\n",
    "elif Operator == \"%\":\n",
    "    print(int(First) % int(Second))\n",
    "else :\n",
    "    print(\"Invalid Operation\")"
   ]
  },
  {
   "cell_type": "code",
   "execution_count": null,
   "id": "bb52d32c-d743-4564-8a12-919cd7876c6e",
   "metadata": {},
   "outputs": [],
   "source": []
  }
 ],
 "metadata": {
  "kernelspec": {
   "display_name": "Python 3 (ipykernel)",
   "language": "python",
   "name": "python3"
  },
  "language_info": {
   "codemirror_mode": {
    "name": "ipython",
    "version": 3
   },
   "file_extension": ".py",
   "mimetype": "text/x-python",
   "name": "python",
   "nbconvert_exporter": "python",
   "pygments_lexer": "ipython3",
   "version": "3.11.5"
  }
 },
 "nbformat": 4,
 "nbformat_minor": 5
}
